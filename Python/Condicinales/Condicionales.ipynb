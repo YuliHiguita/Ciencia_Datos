{
 "cells": [
  {
   "cell_type": "code",
   "execution_count": 4,
   "metadata": {},
   "outputs": [
    {
     "name": "stdout",
     "output_type": "stream",
     "text": [
      "Es mayor de edad\n"
     ]
    }
   ],
   "source": [
    "edadAlumno =18\n",
    "if edadAlumno >= 18:\n",
    "        print (\"Es mayor de edad\")\n",
    "else:\n",
    "        print (\"Es menor de edad\")"
   ]
  },
  {
   "cell_type": "code",
   "execution_count": 11,
   "metadata": {},
   "outputs": [
    {
     "name": "stdout",
     "output_type": "stream",
     "text": [
      "Es mayor de edad y es mujer  y su edades:18\n"
     ]
    }
   ],
   "source": [
    "generoAlumno = \"F\"\n",
    "edadAlumno = 18\n",
    "if edadAlumno >= 18 or generoAlumno == \"f\":\n",
    "        print (\"Es mayor de edad y es mujer  y su edades:\" + str(edadAlumno))\n",
    "else:\n",
    "        print (\"Es mayor de edad pero no es mujer\")\n"
   ]
  },
  {
   "cell_type": "code",
   "execution_count": 15,
   "metadata": {},
   "outputs": [
    {
     "name": "stdout",
     "output_type": "stream",
     "text": [
      "Es mayor de edad, es hombre, su edad:20 y su municipio es:Medellin\n"
     ]
    }
   ],
   "source": [
    "generoAlumno = \"M\"\n",
    "municipioAlumno=\"Medellin\"\n",
    "edadAlumno = 20\n",
    "if edadAlumno >= 18 or generoAlumno == \"m\":\n",
    "        print (\"Es mayor de edad, es hombre, su edads:\" + str(edadAlumno) + \" y su municipio es:\" + municipioAlumno )\n",
    "else:\n",
    "        print (\"Es mayor de edad pero y es mujer\")"
   ]
  },
  {
   "cell_type": "code",
   "execution_count": 16,
   "metadata": {},
   "outputs": [
    {
     "data": {
      "text/plain": [
       "str"
      ]
     },
     "execution_count": 16,
     "metadata": {},
     "output_type": "execute_result"
    }
   ],
   "source": [
    "str"
   ]
  },
  {
   "cell_type": "code",
   "execution_count": 17,
   "metadata": {},
   "outputs": [
    {
     "name": "stdout",
     "output_type": "stream",
     "text": [
      "2\n"
     ]
    },
    {
     "data": {
      "text/plain": [
       "int"
      ]
     },
     "execution_count": 17,
     "metadata": {},
     "output_type": "execute_result"
    }
   ],
   "source": [
    "numeroTexto = \"2\"\n",
    "print(int(numeroTexto))\n",
    "type(int(numeroTexto))"
   ]
  },
  {
   "cell_type": "code",
   "execution_count": 18,
   "metadata": {},
   "outputs": [
    {
     "name": "stdout",
     "output_type": "stream",
     "text": [
      "0\n",
      "1\n",
      "2\n",
      "3\n",
      "4\n",
      "5\n",
      "6\n",
      "7\n",
      "8\n",
      "9\n",
      "10\n"
     ]
    }
   ],
   "source": [
    "contador=0\n",
    "while contador <=10:\n",
    "    print(contador)\n",
    "    contador +=1"
   ]
  },
  {
   "cell_type": "code",
   "execution_count": 19,
   "metadata": {},
   "outputs": [
    {
     "name": "stdout",
     "output_type": "stream",
     "text": [
      "1\n",
      "2\n",
      "3\n",
      "4\n",
      "5\n",
      "6\n"
     ]
    }
   ],
   "source": [
    "listaNumeros=[1,2,3,4,5,6]\n",
    "for numero in listaNumeros:\n",
    "    print(numero)\n"
   ]
  },
  {
   "cell_type": "code",
   "execution_count": 20,
   "metadata": {},
   "outputs": [
    {
     "name": "stdout",
     "output_type": "stream",
     "text": [
      "El numero es par y es el2\n",
      "El numero es par y es el4\n",
      "El numero es par y es el6\n"
     ]
    }
   ],
   "source": [
    "for numero in listaNumeros:\n",
    "    if numero % 2==0:\n",
    "        print(\"El numero es par y es el\"+ str(numero))\n"
   ]
  },
  {
   "cell_type": "code",
   "execution_count": 23,
   "metadata": {},
   "outputs": [
    {
     "name": "stdout",
     "output_type": "stream",
     "text": [
      "El numero es impar y es el 1\n",
      "El numero es impar y es el 3\n",
      "El numero es impar y es el 5\n"
     ]
    }
   ],
   "source": [
    "for numero in listaNumeros:\n",
    "    if numero % 2!=0:\n",
    "        print(\"El numero es impar y es el \"+ str(numero))"
   ]
  },
  {
   "cell_type": "code",
   "execution_count": 30,
   "metadata": {},
   "outputs": [
    {
     "name": "stdout",
     "output_type": "stream",
     "text": [
      "El numero es impar y es el 1\n",
      "El numero es par y es el2\n",
      "El numero es impar y es el 3\n",
      "El numero es par y es el4\n",
      "El numero es impar y es el 5\n",
      "El numero es dividible por 5 y es el 5\n",
      "El numero es par y es el6\n"
     ]
    }
   ],
   "source": [
    "for numero in listaNumeros:\n",
    "    if numero % 2==0:\n",
    "        print(\"El numero es par y es el\"+ str(numero))\n",
    "    if  numero % 2!=0:\n",
    "            print(\"El numero es impar y es el \"+ str(numero))\n",
    "    if numero % 5==0:\n",
    "            print(\"El numero es dividible por 5 y es el \"+ str(numero))\n",
    "        \n",
    "    \n",
    "    "
   ]
  },
  {
   "cell_type": "code",
   "execution_count": null,
   "metadata": {
    "collapsed": true
   },
   "outputs": [],
   "source": []
  },
  {
   "cell_type": "code",
   "execution_count": null,
   "metadata": {
    "collapsed": true
   },
   "outputs": [],
   "source": []
  },
  {
   "cell_type": "code",
   "execution_count": null,
   "metadata": {
    "collapsed": true
   },
   "outputs": [],
   "source": [
    "for numero in listaNumeros:\n",
    "    if numero % 3 ==0:\n",
    "        continue\n",
    "    else:\n",
    "        print(numero)"
   ]
  },
  {
   "cell_type": "markdown",
   "metadata": {},
   "source": [
    "# continue omite el numero y continua buscando el resto"
   ]
  },
  {
   "cell_type": "code",
   "execution_count": 32,
   "metadata": {},
   "outputs": [
    {
     "name": "stdout",
     "output_type": "stream",
     "text": [
      "1\n",
      "2\n"
     ]
    }
   ],
   "source": [
    "for numero in listaNumeros:\n",
    "    if numero % 3 ==0:\n",
    "        break\n",
    "    else:\n",
    "        print(numero)"
   ]
  },
  {
   "cell_type": "markdown",
   "metadata": {},
   "source": [
    "# break busca hasta antes de llegar al numero"
   ]
  },
  {
   "cell_type": "code",
   "execution_count": null,
   "metadata": {
    "collapsed": true
   },
   "outputs": [],
   "source": []
  }
 ],
 "metadata": {
  "kernelspec": {
   "display_name": "Python 3",
   "language": "python",
   "name": "python3"
  },
  "language_info": {
   "codemirror_mode": {
    "name": "ipython",
    "version": 3
   },
   "file_extension": ".py",
   "mimetype": "text/x-python",
   "name": "python",
   "nbconvert_exporter": "python",
   "pygments_lexer": "ipython3",
   "version": "3.6.1"
  }
 },
 "nbformat": 4,
 "nbformat_minor": 2
}
